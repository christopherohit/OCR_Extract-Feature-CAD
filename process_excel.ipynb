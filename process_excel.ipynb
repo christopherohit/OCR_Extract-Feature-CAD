{
 "cells": [
  {
   "cell_type": "code",
   "execution_count": null,
   "metadata": {},
   "outputs": [],
   "source": [
    "from src.visualize import draw_bbox_on_img\n",
    "from PIL import Image\n",
    "\n",
    "image_pil = Image.open('/mnt/d/docker_volume/room_of_nhanhuynh/ai_butler/CAD-ShibaSangyo/data_test/inference_data_image/outfile2.png')\n",
    "\n",
    "\n",
    "draw_bbox_on_img([1723, 821, 2945, 2028], image_pil)"
   ]
  },
  {
   "cell_type": "code",
   "execution_count": 1,
   "metadata": {},
   "outputs": [
    {
     "name": "stdout",
     "output_type": "stream",
     "text": [
      "Original bounding boxes: [[1872, 636, 2789, 2039], [841, 567, 1752, 2048]]\n",
      "Sorted bounding boxes: [[841, 567, 1752, 2048], [1872, 636, 2789, 2039]]\n"
     ]
    }
   ],
   "source": [
    "bounding_boxes = [[1872, 636, 2789, 2039], [841, 567, 1752, 2048]]\n",
    "\n",
    "# Sort bounding boxes based on left-most x-coordinate\n",
    "sorted_boxes = sorted(bounding_boxes, key=lambda box: box[0])\n",
    "\n",
    "print(\"Original bounding boxes:\", bounding_boxes)\n",
    "print(\"Sorted bounding boxes:\", sorted_boxes)"
   ]
  },
  {
   "cell_type": "code",
   "execution_count": 16,
   "metadata": {},
   "outputs": [
    {
     "name": "stdout",
     "output_type": "stream",
     "text": [
      "loading Roboflow workspace...\n",
      "loading Roboflow project...\n"
     ]
    },
    {
     "data": {
      "text/plain": [
       "<roboflow.models.object_detection.ObjectDetectionModel at 0x7abf81319db0>"
      ]
     },
     "execution_count": 16,
     "metadata": {},
     "output_type": "execute_result"
    }
   ],
   "source": [
    "from roboflow import Roboflow\n",
    "\n",
    "rf = Roboflow(api_key='1VTXddYQeoyvMHXGhByq')\n",
    "# project = rf.workspace('BnK').project('Core CAD')\n",
    "project = rf.workspace().project('core-cad')\n",
    "model = project.version('2').model\n"
   ]
  },
  {
   "cell_type": "code",
   "execution_count": 17,
   "metadata": {},
   "outputs": [],
   "source": [
    "model.confidence = 50\n",
    "model.overlap = 25\n",
    "\n",
    "predict = model.predict('data/data_new/2.png')"
   ]
  },
  {
   "cell_type": "code",
   "execution_count": 18,
   "metadata": {},
   "outputs": [
    {
     "data": {
      "text/plain": [
       "<roboflow.util.prediction.PredictionGroup at 0x7abfad17fb80>"
      ]
     },
     "execution_count": 18,
     "metadata": {},
     "output_type": "execute_result"
    }
   ],
   "source": [
    "predict"
   ]
  },
  {
   "cell_type": "code",
   "execution_count": null,
   "metadata": {},
   "outputs": [],
   "source": []
  }
 ],
 "metadata": {
  "kernelspec": {
   "display_name": "shiba",
   "language": "python",
   "name": "python3"
  },
  "language_info": {
   "codemirror_mode": {
    "name": "ipython",
    "version": 3
   },
   "file_extension": ".py",
   "mimetype": "text/x-python",
   "name": "python",
   "nbconvert_exporter": "python",
   "pygments_lexer": "ipython3",
   "version": "3.10.14"
  }
 },
 "nbformat": 4,
 "nbformat_minor": 2
}
