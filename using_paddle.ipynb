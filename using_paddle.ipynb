{
 "cells": [
  {
   "cell_type": "code",
   "execution_count": 10,
   "metadata": {},
   "outputs": [
    {
     "name": "stdout",
     "output_type": "stream",
     "text": [
      "[2024/06/28 13:17:13] ppocr DEBUG: Namespace(help='==SUPPRESS==', use_gpu=False, use_xpu=False, use_npu=False, use_mlu=False, ir_optim=True, use_tensorrt=False, min_subgraph_size=15, precision='fp32', gpu_mem=500, gpu_id=0, image_dir=None, page_num=0, det_algorithm='DB', det_model_dir='/home/bu0ai/.paddleocr/whl/det/en/en_PP-OCRv3_det_infer', det_limit_side_len=960, det_limit_type='max', det_box_type='quad', det_db_thresh=0.3, det_db_box_thresh=0.6, det_db_unclip_ratio=1.5, max_batch_size=10, use_dilation=False, det_db_score_mode='fast', det_east_score_thresh=0.8, det_east_cover_thresh=0.1, det_east_nms_thresh=0.2, det_sast_score_thresh=0.5, det_sast_nms_thresh=0.2, det_pse_thresh=0, det_pse_box_thresh=0.85, det_pse_min_area=16, det_pse_scale=1, scales=[8, 16, 32], alpha=1.0, beta=1.0, fourier_degree=5, rec_algorithm='SVTR_LCNet', rec_model_dir='/home/bu0ai/.paddleocr/whl/rec/en/en_PP-OCRv4_rec_infer', rec_image_inverse=True, rec_image_shape='3, 48, 320', rec_batch_num=6, max_text_length=25, rec_char_dict_path='/mnt/d/docker_volume/room_of_nhanhuynh/ai_butler/CAD-ShibaSangyo/full_build_from_scratch_nhanhuynh/PaddleOCR/ppocr/utils/en_dict.txt', use_space_char=True, vis_font_path='./doc/fonts/simfang.ttf', drop_score=0.5, e2e_algorithm='PGNet', e2e_model_dir=None, e2e_limit_side_len=768, e2e_limit_type='max', e2e_pgnet_score_thresh=0.5, e2e_char_dict_path='./ppocr/utils/ic15_dict.txt', e2e_pgnet_valid_set='totaltext', e2e_pgnet_mode='fast', use_angle_cls=False, cls_model_dir='/home/bu0ai/.paddleocr/whl/cls/ch_ppocr_mobile_v2.0_cls_infer', cls_image_shape='3, 48, 192', label_list=['0', '180'], cls_batch_num=6, cls_thresh=0.9, enable_mkldnn=False, cpu_threads=10, use_pdserving=False, warmup=False, sr_model_dir=None, sr_image_shape='3, 32, 128', sr_batch_num=1, draw_img_save_dir='./inference_results', save_crop_res=False, crop_res_save_dir='./output', use_mp=False, total_process_num=1, process_id=0, benchmark=False, save_log_path='./log_output/', show_log=True, use_onnx=False, return_word_box=False, output='./output', table_max_len=488, table_algorithm='TableAttn', table_model_dir=None, merge_no_span_structure=True, table_char_dict_path=None, layout_model_dir=None, layout_dict_path=None, layout_score_threshold=0.5, layout_nms_threshold=0.5, kie_algorithm='LayoutXLM', ser_model_dir=None, re_model_dir=None, use_visual_backbone=True, ser_dict_path='../train_data/XFUND/class_list_xfun.txt', ocr_order_method=None, mode='structure', image_orientation=False, layout=True, table=True, ocr=True, recovery=False, use_pdf2docx_api=False, invert=False, binarize=False, alphacolor=(255, 255, 255), lang='en', det=True, rec=True, type='ocr', savefile=False, ocr_version='PP-OCRv4', structure_version='PP-StructureV2')\n",
      "[2024/06/28 13:17:14] ppocr WARNING: Since the angle classifier is not initialized, it will not be used during the forward process\n"
     ]
    },
    {
     "data": {
      "text/plain": [
       "[[[[7.0, 2.0], [46.0, 2.0], [46.0, 52.0], [7.0, 52.0]]]]"
      ]
     },
     "execution_count": 10,
     "metadata": {},
     "output_type": "execute_result"
    }
   ],
   "source": [
    "from PaddleOCR.paddleocr import PaddleOCR\n",
    "from PIL import ImageDraw, Image\n",
    "import os, cv2, glob\n",
    "\n",
    "from basicsr.utils import imwrite\n",
    "# Paddleocr supports Chinese, English, French, German, Korean and Japanese.\n",
    "# You can set the parameter `lang` as `ch`, `en`, `fr`, `german`, `korean`, `japan`\n",
    "# to switch the language model in order.\n",
    "ocr = PaddleOCR(ocr_version=\"PP-OCRv4\",\n",
    "                lang = 'en') # need to run only once to download and load model into memory\n",
    "\n",
    "# ocr = PaddleOCR(ocr_version=\"PP-OCR\", lang = 'en')\n",
    "\n",
    "img_path = 'temp/temp_num/0/2528_3047_2669_3266.png'\n",
    "\n",
    "img = Image.open(img_path)\n",
    "\n",
    "result = ocr.ocr(img_path, det = True,  rec=False)\n",
    "# for idx in range(len(result)):\n",
    "#     res = result[idx]\n",
    "#     for line in res:\n",
    "#         print(line)\n",
    "#         x1, y1 = line[0]\n",
    "#         x2, y2 = line[2]\n",
    "#         word = img.crop((x1, y1, x2, y2))\n",
    "result"
   ]
  },
  {
   "cell_type": "code",
   "execution_count": 8,
   "metadata": {},
   "outputs": [
    {
     "data": {
      "text/plain": [
       "2.0"
      ]
     },
     "execution_count": 8,
     "metadata": {},
     "output_type": "execute_result"
    }
   ],
   "source": [
    "float('2')"
   ]
  },
  {
   "cell_type": "code",
   "execution_count": 20,
   "metadata": {},
   "outputs": [
    {
     "data": {
      "image/jpeg": "[encoded data removed]",
      "image/png": "[encoded data removed]",
      "text/plain": [
       "<PIL.Image.Image image mode=RGB size=41x32>"
      ]
     },
     "execution_count": 20,
     "metadata": {},
     "output_type": "execute_result"
    }
   ],
   "source": [
    "word"
   ]
  },
  {
   "cell_type": "code",
   "execution_count": 3,
   "metadata": {},
   "outputs": [],
   "source": [
    "list_need_up = glob.glob('temp/temp_paddle_paddle/*')\n",
    "model = RRDBNet(num_in_ch=3, num_out_ch=3, num_feat=64, num_block=23, num_grow_ch=32, scale=2)\n",
    "bg_upsampler = RealESRGANer(\n",
    "                            scale=2,\n",
    "                            model_path='https://github.com/xinntao/Real-ESRGAN/releases/download/v0.2.1/RealESRGAN_x2plus.pth',\n",
    "                            model=model,\n",
    "                            tile=400,\n",
    "                            tile_pad=10,\n",
    "                            pre_pad=0,\n",
    "                            half=True)\n",
    "GFP_GAN_Model = GFPGANer(model_path='GFPGAN/experiments/pretrained_models/GFPGANv1.3.pth',\n",
    "                                upscale=2,\n",
    "                                arch='clean',\n",
    "                                channel_multiplier=2,\n",
    "                                bg_upsampler=bg_upsampler)\n",
    "def upscale_image(image_path: str, restorer,is_saved: bool = True, des_path: str = ''):\n",
    "\n",
    "\n",
    "    img_name = os.path.basename(image_path)\n",
    "    # print(f'Processing {img_name} ...')\n",
    "    basename, ext = os.path.splitext(img_name)\n",
    "    input_img = cv2.imread(image_path, cv2.IMREAD_COLOR)\n",
    "\n",
    "    # restore all component if necessary\n",
    "    _, _, restored_img = restorer.enhance(\n",
    "        input_img,\n",
    "        has_aligned= False,\n",
    "        only_center_face= False,\n",
    "        paste_back= True,\n",
    "        weight= 0.5)\n",
    "    \n",
    "    if restored_img is not None:\n",
    "        if ext == 'auto':\n",
    "            extension = 'jpg'\n",
    "        else:\n",
    "            extension = ext\n",
    "        save_restore_path = os.path.join(f'{des_path}', f\"{basename}{extension}\")\n",
    "        imwrite(restored_img, save_restore_path)\n",
    "\n",
    "for image in list_need_up:\n",
    "    upscale_image(image, GFP_GAN_Model, is_saved=True, des_path='temp/temp_save_core_restore')"
   ]
  },
  {
   "cell_type": "code",
   "execution_count": 2,
   "metadata": {},
   "outputs": [
    {
     "ename": "",
     "evalue": "",
     "output_type": "error",
     "traceback": [
      "\u001b[1;31mThe Kernel crashed while executing code in the current cell or a previous cell. \n",
      "\u001b[1;31mPlease review the code in the cell(s) to identify a possible cause of the failure. \n",
      "\u001b[1;31mClick <a href='https://aka.ms/vscodeJupyterKernelCrash'>here</a> for more info. \n",
      "\u001b[1;31mView Jupyter <a href='command:jupyter.viewOutput'>log</a> for further details."
     ]
    }
   ],
   "source": [
    "import cv2\n",
    "import numpy as np\n",
    "\n",
    "\n",
    "img = cv2.imread('temp/temp_save_core_restore/663_2424_762_2528.png', cv2.IMREAD_COLOR) \n",
    "  \n",
    "# Convert to grayscale. \n",
    "gray = cv2.cvtColor(img, cv2.COLOR_BGR2GRAY) \n",
    "  \n",
    "# Blur using 3 * 3 kernel. \n",
    "gray_blurred = cv2.blur(gray, (3, 3)) \n",
    "  \n",
    "# Apply Hough transform on the blurred image. \n",
    "detected_circles = cv2.HoughCircles(gray_blurred,  \n",
    "                   cv2.HOUGH_GRADIENT, 1, 20, param1 = 50, \n",
    "               param2 = 30, minRadius = 1, maxRadius = 40) \n",
    "  \n",
    "# Draw circles that are detected. \n",
    "if detected_circles is not None: \n",
    "  \n",
    "    # Convert the circle parameters a, b and r to integers. \n",
    "    detected_circles = np.uint16(np.around(detected_circles)) \n",
    "  \n",
    "    for pt in detected_circles[0, :]: \n",
    "        a, b, r = pt[0], pt[1], pt[2] \n",
    "  \n",
    "        # Draw the circumference of the circle. \n",
    "        cv2.circle(img, (a, b), r, (0, 255, 0), 2) \n",
    "  \n",
    "        # Draw a small circle (of radius 1) to show the center. \n",
    "        cv2.circle(img, (a, b), 1, (0, 0, 255), 3) \n"
   ]
  },
  {
   "cell_type": "code",
   "execution_count": 7,
   "metadata": {},
   "outputs": [
    {
     "name": "stdout",
     "output_type": "stream",
     "text": [
      "Decoded label = 2\n"
     ]
    },
    {
     "name": "stderr",
     "output_type": "stream",
     "text": [
      "Using cache found in /home/bu0ai/.cache/torch/hub/baudm_parseq_main\n"
     ]
    }
   ],
   "source": [
    "import torch\n",
    "from PIL import Image\n",
    "from strhub.data.module import SceneTextDataModule\n",
    "\n",
    "# Load model and image transforms\n",
    "parseq = torch.hub.load('baudm/parseq', 'parseq_tiny', pretrained=True).eval()\n",
    "img_transform = SceneTextDataModule.get_transform(parseq.hparams.img_size)\n",
    "\n",
    "img = Image.open('temp/temp_num/0/737_2350_825_2418.png').convert('RGB')\n",
    "# Preprocess. Model expects a batch of images with shape: (B, C, H, W)\n",
    "img = img_transform(img).unsqueeze(0)\n",
    "\n",
    "logits = parseq(img)\n",
    "logits.shape  # torch.Size([1, 26, 95]), 94 characters + [EOS] symbol\n",
    "\n",
    "# Greedy decoding\n",
    "pred = logits.softmax(-1)\n",
    "label, confidence = parseq.tokenizer.decode(pred)\n",
    "print('Decoded label = {}'.format(label[0]))"
   ]
  },
  {
   "cell_type": "code",
   "execution_count": 13,
   "metadata": {},
   "outputs": [
    {
     "name": "stdout",
     "output_type": "stream",
     "text": [
      "[Errno 2] No such file or directory: 'east_pytorch/'\n",
      "/mnt/d/docker_volume/room_of_nhanhuynh/ai_butler/CAD-ShibaSangyo/full_build_from_scratch_nhanhuynh/east_pytorch\n"
     ]
    }
   ],
   "source": [
    "%cd east_pytorch/\n",
    "!python detect.py --weights weights/model.pt --input \"/mnt/d/docker_volume/room_of_nhanhuynh/ai_butler/CAD-ShibaSangyo/full_build_from_scratch_nhanhuynh/temp/temp_char/0/592_2469_664_2562.png\" --output \"output.png\""
   ]
  },
  {
   "cell_type": "code",
   "execution_count": null,
   "metadata": {},
   "outputs": [],
   "source": []
  }
 ],
 "metadata": {
  "kernelspec": {
   "display_name": "shiba",
   "language": "python",
   "name": "python3"
  },
  "language_info": {
   "codemirror_mode": {
    "name": "ipython",
    "version": 3
   },
   "file_extension": ".py",
   "mimetype": "text/x-python",
   "name": "python",
   "nbconvert_exporter": "python",
   "pygments_lexer": "ipython3",
   "version": "3.10.14"
  }
 },
 "nbformat": 4,
 "nbformat_minor": 2
}
